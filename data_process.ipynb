{
 "cells": [
  {
   "cell_type": "markdown",
   "source": [
    "# 📊 Preprocessing of Breast Cancer Gene Expression Data (GSE96058)\n",
    "\n",
    "This notebook performs preprocessing of the GSE96058 breast cancer RNA-seq dataset. The main goal is to clean and normalize the expression matrix and clinical metadata to prepare them for downstream analyses (e.g., clustering, differential expression, or signature evaluation).\n",
    "\n",
    "---\n",
    "\n",
    "## ✅ Included Steps:\n",
    "\n",
    "1. **Load gene expression matrix**\n",
    "2. **Quality control (QC)**  \n",
    "   - Remove low-expressed genes  \n",
    "   - Remove low-quality samples  \n",
    "3. **Z-score normalization**  \n",
    "   - Standardize gene expression across samples  \n",
    "4. **Merge technical replicates**  \n",
    "   - Average repeated samples  \n",
    "5. **Parse clinical metadata**  \n",
    "   - Extract structured annotations from the SOFT file  \n",
    "\n",
    "---\n",
    "\n",
    "**Input:**  \n",
    "- `GSE96058_gene_expression_*.csv`  \n",
    "- `GSE96058_family.soft`\n",
    "\n",
    "**Output:**  \n",
    "- Cleaned and normalized expression matrix  \n",
    "- Matched clinical annotation DataFrame\n",
    "\n",
    "This notebook does not perform analysis; it is designed purely for robust, reproducible preprocessing of large-scale RNA-seq data.\n"
   ],
   "metadata": {
    "collapsed": false
   },
   "id": "716fd01eb609b31f"
  },
  {
   "cell_type": "markdown",
   "source": [
    "## 📥 Step 1: Load Gene Expression Matrix\n",
    "\n",
    "We begin by loading the gene expression matrix from a CSV file. The matrix contains log-transformed expression values (e.g., log2 TPM or similar), with genes as rows and samples as columns. This dataset includes 3,273 samples and 136 technical replicates from the GSE96058 breast cancer cohort.\n"
   ],
   "metadata": {
    "collapsed": false
   },
   "id": "90bc515740cc4b51"
  },
  {
   "cell_type": "code",
   "execution_count": null,
   "outputs": [],
   "source": [
    "import pandas as pd\n",
    "import matplotlib.pyplot as plt\n",
    "import seaborn as sns\n",
    "import numpy as np\n",
    "import re\n",
    "\n",
    "# File path (modify as needed)\n",
    "file_path = \"./data/GSE96058_gene_expression_3273_samples_and_136_replicates_transformed.csv\"\n",
    "\n",
    "# Read the expression matrix\n",
    "df = pd.read_csv(file_path, index_col=0)\n",
    "print(\"✅ Data loaded successfully\")\n",
    "print(f\"Original shape: {df.shape}\")\n"
   ],
   "metadata": {
    "collapsed": false
   },
   "id": "2e3e1fb4a91d5182"
  },
  {
   "cell_type": "markdown",
   "source": [
    "## 🧹 Step 2: Quality Control\n",
    "\n",
    "We perform initial quality control to filter out low-quality or non-informative data.\n",
    "\n",
    "### 2.1 Remove low-expressed genes  \n",
    "Genes expressed in less than 10% of all samples are removed. These genes are likely uninformative or non-expressed in most tumors.\n",
    "\n",
    "### 2.2 Visualize sample-level total expression  \n",
    "We compute and plot the total expression per sample after filtering genes, to inspect for outlier samples.\n",
    "\n",
    "### 2.3 Remove low-quality samples  \n",
    "Samples with total expression below the 5th percentile are considered low quality and removed from further analysis.\n"
   ],
   "metadata": {
    "collapsed": false
   },
   "id": "3cf018d79a702f4c"
  },
  {
   "cell_type": "code",
   "execution_count": null,
   "outputs": [],
   "source": [
    "# ========== Quality Control ==========\n",
    "\n",
    "# 1.1 Remove genes that are lowly expressed in most samples\n",
    "# (e.g., genes with expression > 0 in less than 10% of samples are removed)\n",
    "nonzero_fraction = (df > 0).sum(axis=1) / df.shape[1]\n",
    "df_qc = df[nonzero_fraction >= 0.1]  # Keep genes expressed in ≥10% of samples\n",
    "print(f\"🔍 Genes retained after QC: {df_qc.shape[0]} / {df.shape[0]}\")\n",
    "\n",
    "# 1.2 Check total expression per sample\n",
    "sample_total_expr = df_qc.sum(axis=0)\n",
    "\n",
    "plt.figure(figsize=(12, 4))\n",
    "sns.histplot(sample_total_expr, bins=50, kde=True)\n",
    "plt.title(\"Sample-wise Total Expression (After Filtering Low-expressed Genes)\")\n",
    "plt.xlabel(\"Total Expression\")\n",
    "plt.ylabel(\"Sample Count\")\n",
    "plt.tight_layout()\n",
    "plt.show()\n",
    "\n",
    "# 1.3 Remove low-quality samples with extremely low total expression\n",
    "# (e.g., below 5th percentile)\n",
    "threshold = np.percentile(sample_total_expr, 5)\n",
    "df_qc = df_qc.loc[:, sample_total_expr >= threshold]\n",
    "print(f\"✅ Shape after removing low-expression samples: {df_qc.shape}\")"
   ],
   "metadata": {
    "collapsed": false
   },
   "id": "a2e38b3113790d5"
  },
  {
   "cell_type": "markdown",
   "source": [
    "## ⚖️ Step 3: Z-score Normalization\n",
    "\n",
    "To make the expression values comparable across genes, we perform Z-score normalization on each gene (row-wise):\n",
    "\n",
    "- Subtract the gene’s mean expression across samples\n",
    "- Divide by its standard deviation\n",
    "\n",
    "This is a standard preprocessing step for clustering and PCA, ensuring all genes are on the same scale.\n"
   ],
   "metadata": {
    "collapsed": false
   },
   "id": "4e325a7c0dbe2b22"
  },
  {
   "cell_type": "code",
   "execution_count": null,
   "outputs": [],
   "source": [
    "\n",
    "# ==========  Normalization ==========\n",
    "\n",
    "# Perform Z-score normalization per gene (for clustering/PCA)\n",
    "df_zscore = df_qc.apply(lambda x: (x - x.mean()) / x.std(), axis=1)\n",
    "\n",
    "# Plot the distribution of Z-scored expression values\n",
    "plt.figure(figsize=(6, 4))\n",
    "sns.histplot(df_zscore.values.flatten(), bins=100, kde=True)\n",
    "plt.title(\"Z-score Normalized Expression Distribution\")\n",
    "plt.xlabel(\"Z-score\")\n",
    "plt.ylabel(\"Frequency\")\n",
    "plt.tight_layout()\n",
    "plt.show()\n"
   ],
   "metadata": {
    "collapsed": false
   },
   "id": "a807e915ee4e63d"
  },
  {
   "cell_type": "markdown",
   "source": [
    "## 🧪 Step 4: Handle Technical Replicates\n",
    "\n",
    "Some samples have technical replicates (columns ending with \"repl\"). To reduce redundancy:\n",
    "\n",
    "- We detect replicate-original sample pairs.\n",
    "- For each pair, we average the expression values of the original and its replicate.\n",
    "- The replicate column is then removed.\n",
    "\n",
    "This results in a cleaner expression matrix with no redundant columns.\n"
   ],
   "metadata": {
    "collapsed": false
   },
   "id": "644b549517ef0ddc"
  },
  {
   "cell_type": "code",
   "execution_count": null,
   "outputs": [],
   "source": [
    "# ---------- Identify replicate pairs ----------\n",
    "df = df_zscore.copy()\n",
    "# Replicate samples end with \"repl\"; original samples should match base name\n",
    "repl_samples = [s for s in df.columns if re.search(r\"repl$\", s)]\n",
    "base_samples = [re.sub(r\"repl$\", \"\", s) for s in repl_samples if re.sub(r\"repl$\", \"\", s) in df.columns]\n",
    "\n",
    "print(f\"Found {len(base_samples)} replicate pairs.\")\n",
    "\n",
    "# ---------- Step 3: Prepare data for correlation & scatterplot ----------\n",
    "correlations = []      # For correlation barplot\n",
    "scatter_data = []      # For joint scatterplot (sampled genes)\n",
    "\n",
    "for base, repl in zip(base_samples, repl_samples):\n",
    "    base_expr = df[base]\n",
    "    repl_expr = df[repl]\n",
    "\n",
    "    # Compute Pearson correlation\n",
    "    corr = base_expr.corr(repl_expr)\n",
    "    correlations.append({'sample': base, 'correlation': corr})\n",
    "\n",
    "    # Sample 1000 genes for scatterplot clarity\n",
    "    sampled_genes = np.random.choice(df.index, size=1000, replace=False)\n",
    "    scatter_data.append(pd.DataFrame({\n",
    "        'base_expr': base_expr.loc[sampled_genes],\n",
    "        'repl_expr': repl_expr.loc[sampled_genes],\n",
    "        'pair': base  # Used for color grouping (optional)\n",
    "    }))"
   ],
   "metadata": {
    "collapsed": false
   },
   "id": "23f4fb5a3e386d06"
  },
  {
   "cell_type": "code",
   "execution_count": null,
   "outputs": [],
   "source": [
    "# ---------- Step 4: Barplot of all correlations ----------\n",
    "corr_df = pd.DataFrame(correlations)\n",
    "\n",
    "plt.figure(figsize=(14, 5))\n",
    "sns.barplot(x='sample', y='correlation', data=corr_df)\n",
    "plt.xticks(rotation=90)\n",
    "plt.title(\"Pearson Correlation Between Original and Replicate Samples\")\n",
    "plt.axhline(0.95, color='red', linestyle='--', label='Recommended threshold')\n",
    "plt.ylabel(\"Pearson r\")\n",
    "plt.xlabel(\"Sample\")\n",
    "plt.legend()\n",
    "plt.tight_layout()\n",
    "plt.show()\n"
   ],
   "metadata": {
    "collapsed": false
   },
   "id": "9867e1e81cacf806"
  },
  {
   "cell_type": "code",
   "execution_count": null,
   "outputs": [],
   "source": [
    "# ---------- Step 5: Combined scatterplot of replicate expression ----------\n",
    "scatter_df = pd.concat(scatter_data, axis=0)\n",
    "\n",
    "plt.figure(figsize=(6, 6))\n",
    "sns.scatterplot(data=scatter_df, x='base_expr', y='repl_expr', hue='pair', alpha=0.3, s=10, legend=False)\n",
    "plt.plot([0, scatter_df[['base_expr', 'repl_expr']].max().max()],\n",
    "         [0, scatter_df[['base_expr', 'repl_expr']].max().max()],\n",
    "         color='red', linestyle='--')\n",
    "plt.xlabel(\"Original Sample Expression\")\n",
    "plt.ylabel(\"Replicate Sample Expression\")\n",
    "plt.title(\"Expression Consistency Across Replicate Pairs (Sampled Genes)\")\n",
    "plt.tight_layout()\n",
    "plt.show()\n",
    "low_corr_samples = corr_df[corr_df['correlation'] < 0.9]\n",
    "print(f\"Number of low-correlation replicate pairs: {len(low_corr_samples)}\")\n",
    "print(low_corr_samples)"
   ],
   "metadata": {
    "collapsed": false
   },
   "id": "adad3ed1e21ebb46"
  },
  {
   "cell_type": "code",
   "execution_count": null,
   "outputs": [],
   "source": [
    "low_corr_samples = corr_df[corr_df['correlation'] < 0.9]\n",
    "print(f\"Number of low-correlation replicate pairs: {len(low_corr_samples)}\")\n",
    "print(low_corr_samples)"
   ],
   "metadata": {
    "collapsed": false
   },
   "id": "e3cb1afb13b45cce"
  },
  {
   "cell_type": "code",
   "execution_count": null,
   "outputs": [],
   "source": [
    "df_zscore = df_zscore.drop(columns = low_corr_samples[\"sample\"])\n",
    "# Identify replicate and original sample columns\n",
    "repl_cols = [col for col in df_zscore.columns if col.endswith('repl')]\n",
    "original_cols = [col for col in df_zscore.columns if not col.endswith('repl')]\n",
    "\n",
    "# Build mapping from replicate to original sample names\n",
    "repl_to_original = {col: col.replace('repl', '') for col in repl_cols}\n",
    "common_originals = [name for name in repl_to_original.values() if name in df_zscore.columns]\n",
    "\n",
    "# Create a new DataFrame to store merged expression values\n",
    "df_merged = df_zscore.copy()\n",
    "\n",
    "# For samples with replicates, average the replicate and original expression\n",
    "for repl, orig in repl_to_original.items():\n",
    "    if orig in df_qc.columns:\n",
    "        # Replace original column with the mean of original and replicate\n",
    "        df_merged[orig] = (df_zscore[orig] + df_zscore[repl]) / 2\n",
    "        # Drop the replicate column\n",
    "        df_merged.drop(columns=[repl], inplace=True)\n"
   ],
   "metadata": {
    "collapsed": false
   },
   "id": "d271e633873b125c"
  },
  {
   "cell_type": "markdown",
   "source": [
    "## 🧾 Clinical Data Parsing from SOFT File\n",
    "\n",
    "This section extracts clinical metadata from the original GEO SOFT file (`GSE96058_family.soft`), which contains detailed sample annotations.\n"
   ],
   "metadata": {
    "collapsed": false
   },
   "id": "b710879a7319e26b"
  },
  {
   "cell_type": "code",
   "execution_count": null,
   "outputs": [],
   "source": [
    "# ========== Step: Clinical Data Processing ==========\n",
    "\n",
    "import re\n",
    "import pandas as pd\n",
    "\n",
    "# Load the SOFT file\n",
    "soft_file = \"./data/GSE96058_family.soft\"\n",
    "\n",
    "# Initialize sample list and tracking variables\n",
    "samples = []\n",
    "current_sample = {}\n",
    "sample_id = None\n",
    "\n",
    "# Parse the SOFT file line by line\n",
    "with open(soft_file, \"r\") as f:\n",
    "    for line in f:\n",
    "        line = line.strip()\n",
    "\n",
    "        # Detect the start of a new sample\n",
    "        if line.startswith(\"!Sample_title\"):\n",
    "            # If a previous sample was being tracked, store it\n",
    "            if current_sample:\n",
    "                samples.append(current_sample)\n",
    "            current_sample = {}\n",
    "            sample_id = line.split(\" = \")[1]\n",
    "            current_sample[\"sample_id\"] = sample_id\n",
    "\n",
    "        # Parse clinical characteristics\n",
    "        elif line.startswith(\"!Sample_characteristics_ch1 =\"):\n",
    "            content = line.split(\"= \", 1)[1]\n",
    "            # Extract key-value pairs like \"age: 56\" or \"ER status: positive\"\n",
    "            pairs = re.findall(r\"([\\w\\s\\-]+?):\\s*([^:]+?)(?=(?:\\s\\w+?:|$))\", content)\n",
    "            for key, value in pairs:\n",
    "                key = key.strip().lower().replace(\" \", \"_\")  # normalize field name\n",
    "                value = value.strip()\n",
    "                current_sample[key] = value\n",
    "\n",
    "# Add the final sample if it exists\n",
    "if current_sample:\n",
    "    samples.append(current_sample)\n",
    "\n",
    "# Convert to DataFrame\n",
    "df_meta = pd.DataFrame(samples)\n",
    "\n",
    "# Display results\n",
    "print(f\"✅ Parsed {len(df_meta)} samples with {df_meta.shape[1]} metadata fields.\")\n",
    "print(df_meta.head())\n"
   ],
   "metadata": {
    "collapsed": false
   },
   "id": "a33f66fae66f2e1b"
  }
 ],
 "metadata": {
  "kernelspec": {
   "display_name": "Python 3",
   "language": "python",
   "name": "python3"
  },
  "language_info": {
   "codemirror_mode": {
    "name": "ipython",
    "version": 2
   },
   "file_extension": ".py",
   "mimetype": "text/x-python",
   "name": "python",
   "nbconvert_exporter": "python",
   "pygments_lexer": "ipython2",
   "version": "2.7.6"
  }
 },
 "nbformat": 4,
 "nbformat_minor": 5
}
