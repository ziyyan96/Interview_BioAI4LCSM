{
 "cells": [
  {
   "cell_type": "markdown",
   "source": [
    "# 🏥 Clinical Data Analysis of Breast Cancer (GSE96058)\n",
    "\n",
    "This notebook focuses on exploring and visualizing clinical characteristics of breast cancer patients in the GSE96058 cohort. It provides an overview of patient- and tumor-level features, treatment information, survival outcomes, and molecular predictions.\n",
    "\n",
    "---\n",
    "\n",
    "## 📌 Objectives\n",
    "\n",
    "- Summarize and visualize important clinical variables grouped by PAM50 molecular subtype.\n",
    "- Explore associations between subtypes and:\n",
    "  - Tumor characteristics (e.g., size, grade, receptor status)\n",
    "  - Treatment patterns (e.g., chemotherapy, endocrine therapy)\n",
    "  - Survival outcomes\n",
    "  - In silico predictions from molecular grade classifiers (MGC, SGC)\n",
    "\n",
    "---\n",
    "\n",
    "## 📊 Variable Groups Analyzed\n",
    "\n",
    "- **Patient & Tumor Characteristics**  \n",
    "  Age at diagnosis, tumor size, lymph node status, grade, Ki67 index, and hormone receptor status.\n",
    "\n",
    "- **Treatment**  \n",
    "  Chemotherapy and endocrine therapy status.\n",
    "\n",
    "- **Survival**  \n",
    "  Overall survival time and censoring status.\n",
    "\n",
    "- **Molecular Predictions (MGC & SGC)**  \n",
    "  Model-based predictions of ER, PR, HER2, Ki67, and NHG.\n",
    "\n",
    "---\n",
    "\n",
    "## 📈 Visualizations\n",
    "\n",
    "- **Boxplots** for numeric variables (e.g., age, tumor size)\n",
    "- **Countplots** for categorical variables (e.g., ER status, treatment type)\n",
    "- Grouped by PAM50 subtype to reveal subtype-specific clinical trends\n",
    "\n",
    "---\n",
    "\n",
    "This analysis supports downstream integration with molecular data (e.g., expression or mutation data), survival modeling, and subtype-specific outcome prediction.\n"
   ],
   "metadata": {
    "collapsed": false
   },
   "id": "8047e804cb92e22e"
  },
  {
   "cell_type": "code",
   "execution_count": null,
   "id": "initial_id",
   "metadata": {
    "collapsed": true
   },
   "outputs": [],
   "source": [
    "import pandas as pd\n",
    "import matplotlib.pyplot as plt\n",
    "import seaborn as sns\n",
    "import numpy as np\n",
    "import re\n",
    "from sklearn.metrics import confusion_matrix, ConfusionMatrixDisplay"
   ]
  },
  {
   "cell_type": "code",
   "execution_count": null,
   "outputs": [],
   "source": [
    "df_meta_all = pd.read_csv(\"./data/df_meta.tsv\",sep=\"\\t\",index_col=0)\n",
    "df_zscore = pd.read_csv(\"./data/df_merged.tsv\",sep=\"\\t\",index_col=0)\n",
    "df_zscore_meta = df_meta_all[df_meta_all[\"sample_id\"].isin(list(df_zscore.columns))]"
   ],
   "metadata": {
    "collapsed": false
   },
   "id": "d44d55c6847b3f25"
  },
  {
   "cell_type": "markdown",
   "source": [
    "### 🧪 Survival Analysis by PAM50 Subtype\n",
    "\n",
    "To assess whether different PAM50 subtypes are associated with significantly different survival outcomes, we perform Kaplan-Meier survival analysis:\n",
    "\n",
    "- **T**: overall survival time (in days)\n",
    "- **E**: event indicator (1 = death, 0 = censored)\n",
    "- **Group**: PAM50 subtype\n",
    "\n",
    "We use `lifelines.KaplanMeierFitter` to fit survival curves for each subtype and visualize them on the same plot.\n",
    "\n",
    "This helps determine whether certain subtypes (e.g., Basal vs LumA) are associated with shorter or longer survival times.\n",
    "\n",
    "The plot shows survival probabilities over time for each subtype."
   ],
   "metadata": {
    "collapsed": false
   },
   "id": "d17dc236586271a0"
  },
  {
   "cell_type": "code",
   "execution_count": null,
   "outputs": [],
   "source": [
    "from lifelines import KaplanMeierFitter\n",
    "from lifelines.statistics import logrank_test, multivariate_logrank_test\n",
    "import matplotlib.pyplot as plt\n",
    "import seaborn as sns\n",
    "\n",
    "# Extract survival time (T), event status (E), and PAM50 subtype group\n",
    "T = df_zscore_meta[\"overall_survival_days\"]\n",
    "E = df_zscore_meta[\"overall_survival_event\"]\n",
    "subtypes = df_zscore_meta[\"pam50_subtype\"]\n",
    "\n",
    "# Initialize plot\n",
    "plt.figure(figsize=(8, 6))\n",
    "kmf = KaplanMeierFitter()\n",
    "\n",
    "# Fit and plot KM curve for each subtype\n",
    "for subtype in subtypes.unique():\n",
    "    mask = subtypes == subtype\n",
    "    kmf.fit(T[mask], E[mask], label=subtype)\n",
    "    kmf.plot_survival_function(ci_show=False)\n",
    "\n",
    "plt.title(\"Kaplan-Meier Survival Curves by PAM50 Subtype\")\n",
    "plt.xlabel(\"Time (days)\")\n",
    "plt.ylabel(\"Survival Probability\")\n",
    "plt.legend(title=\"Subtype\")\n",
    "plt.tight_layout()\n",
    "plt.show()\n"
   ],
   "metadata": {
    "collapsed": false
   },
   "id": "824816da19b55baa"
  },
  {
   "cell_type": "markdown",
   "source": [
    "## 🏥 Clinical Variable Analysis Across PAM50 Subtypes\n",
    "\n",
    "To better understand how clinical and molecular features vary across breast cancer subtypes, we grouped variables into several categories:\n",
    "\n",
    "- **Patient & Tumor Characteristics**: age at diagnosis, tumor size, lymph node status, ER/PR/HER2 status, etc.\n",
    "- **Treatment Information**: whether patients received endocrine therapy or chemotherapy.\n",
    "- **Survival**: overall survival time and event status.\n",
    "- **Molecular Predictions**:\n",
    "  - MGC: Model-based predictions for ER, PR, HER2, Ki67, NHG.\n",
    "  - SGC: Alternative predictions based on another scoring method.\n",
    "\n",
    "### 🔍 Visualization Strategy\n",
    "\n",
    "For each variable group, we visualize distributions across PAM50 subtypes using:\n",
    "\n",
    "- **Boxplots** for continuous (numeric) variables (e.g., age, tumor size).\n",
    "- **Countplots** for categorical variables (e.g., ER status, treatment).\n",
    "\n",
    "This allows us to:\n",
    "\n",
    "- Identify subtype-specific trends (e.g., LumA tends to have higher ER positivity).\n",
    "- Explore associations between molecular subtype and clinical features.\n",
    "- Generate hypotheses for downstream predictive modeling or survival analysis.\n",
    "\n",
    "Each figure below represents one category of variables. Within each group, individual subplots are labeled accordingly.\n",
    "\n",
    "---\n"
   ],
   "metadata": {
    "collapsed": false
   },
   "id": "cc12f60704ac8dbc"
  },
  {
   "cell_type": "code",
   "execution_count": null,
   "outputs": [],
   "source": [
    "variable_groups = {\n",
    "    \"Patient & Tumor Characteristics\": [\n",
    "        \"age_at_diagnosis\", \"tumor_size\", \"lymph_node_status\", \"lymph_node_group\",\n",
    "        \"nhg\", \"ki67_status\", \"er_status\", \"pgr_status\", \"her2_status\"\n",
    "    ],\n",
    "    \"Treatment\": [\n",
    "        \"endocrine_treated\", \"chemo_treated\"\n",
    "    ],\n",
    "    \"Survival\": [\n",
    "        \"overall_survival_days\", \"overall_survival_event\"\n",
    "    ],\n",
    "    \"Molecular Predictions (MGC)\": [\n",
    "        \"er_prediction_mgc\", \"pgr_prediction_mgc\", \"her2_prediction_mgc\", \"ki67_prediction_mgc\", \"nhg_prediction_mgc\"\n",
    "    ],\n",
    "    \"Molecular Predictions (SGC)\": [\n",
    "        \"er_prediction_sgc\", \"pgr_prediction_sgc\", \"her2_prediction_sgc\", \"ki67_prediction_sgc\"\n",
    "    ]\n",
    "}\n",
    "import matplotlib.pyplot as plt\n",
    "import seaborn as sns\n",
    "\n",
    "df = df_zscore_meta.copy()\n",
    "subtype_col = \"pam50_subtype\"\n",
    "\n",
    "for group_name, variables in variable_groups.items():\n",
    "    n = len(variables)\n",
    "    ncols = 3\n",
    "    nrows = (n + ncols - 1) // ncols\n",
    "\n",
    "    fig, axes = plt.subplots(nrows, ncols, figsize=(5*ncols, 4*nrows))\n",
    "    axes = axes.flatten()\n",
    "\n",
    "    for i, var in enumerate(variables):\n",
    "        ax = axes[i]\n",
    "        if var in df.columns:\n",
    "            if pd.api.types.is_numeric_dtype(df[var]):\n",
    "                sns.boxplot(data=df, x=subtype_col, y=var, ax=ax)\n",
    "                ax.set_title(f\"{var} (Boxplot)\")\n",
    "            else:\n",
    "                sns.countplot(data=df, x=var, hue=subtype_col, ax=ax)\n",
    "                ax.set_title(f\"{var} (Countplot)\")\n",
    "            ax.tick_params(axis='x', rotation=45)\n",
    "        else:\n",
    "            ax.axis('off')\n",
    "\n",
    "    # Remove unused axes\n",
    "    for j in range(i + 1, len(axes)):\n",
    "        axes[j].axis('off')\n",
    "\n",
    "    plt.tight_layout()\n",
    "    plt.suptitle(group_name, fontsize=16, y=1.02)\n",
    "    plt.show()"
   ],
   "metadata": {
    "collapsed": false
   },
   "id": "2469aba87f8dfa81"
  }
 ],
 "metadata": {
  "kernelspec": {
   "display_name": "Python 3",
   "language": "python",
   "name": "python3"
  },
  "language_info": {
   "codemirror_mode": {
    "name": "ipython",
    "version": 2
   },
   "file_extension": ".py",
   "mimetype": "text/x-python",
   "name": "python",
   "nbconvert_exporter": "python",
   "pygments_lexer": "ipython2",
   "version": "2.7.6"
  }
 },
 "nbformat": 4,
 "nbformat_minor": 5
}
